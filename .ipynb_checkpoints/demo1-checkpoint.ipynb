{
 "cells": [
  {
   "cell_type": "code",
   "execution_count": 1,
   "id": "74f3a70b",
   "metadata": {},
   "outputs": [
    {
     "data": {
      "text/plain": [
       "15"
      ]
     },
     "execution_count": 1,
     "metadata": {},
     "output_type": "execute_result"
    }
   ],
   "source": [
    "x=7\n",
    "y=8\n",
    "x+y"
   ]
  },
  {
   "cell_type": "code",
   "execution_count": 1,
   "id": "27961911",
   "metadata": {},
   "outputs": [],
   "source": [
    "a= [2,3,4]\n"
   ]
  },
  {
   "cell_type": "code",
   "execution_count": null,
   "id": "ac792731",
   "metadata": {},
   "outputs": [],
   "source": []
  },
  {
   "cell_type": "code",
   "execution_count": 2,
   "id": "d7098cba",
   "metadata": {},
   "outputs": [
    {
     "name": "stdout",
     "output_type": "stream",
     "text": [
      "2\n"
     ]
    }
   ],
   "source": [
    "print(2)"
   ]
  },
  {
   "cell_type": "code",
   "execution_count": 3,
   "id": "48b4286b",
   "metadata": {},
   "outputs": [],
   "source": [
    "f=8\n"
   ]
  },
  {
   "cell_type": "code",
   "execution_count": 6,
   "id": "21a24239",
   "metadata": {},
   "outputs": [],
   "source": [
    "df=pd.read_csv('C:/Users/amitg/Downloads/netflix_titles.csv (1)/netflix_titles.csv')"
   ]
  },
  {
   "cell_type": "code",
   "execution_count": 5,
   "id": "824410a6",
   "metadata": {},
   "outputs": [],
   "source": [
    "import pandas as pd"
   ]
  },
  {
   "cell_type": "code",
   "execution_count": 7,
   "id": "8c0f0fb3",
   "metadata": {},
   "outputs": [
    {
     "name": "stdout",
     "output_type": "stream",
     "text": [
      "     show_id     type                                    title  \\\n",
      "0         s1  TV Show                                       3%   \n",
      "1         s2    Movie                                     7:19   \n",
      "2         s3    Movie                                    23:59   \n",
      "3         s4    Movie                                        9   \n",
      "4         s5    Movie                                       21   \n",
      "...      ...      ...                                      ...   \n",
      "7782   s7783    Movie                                     Zozo   \n",
      "7783   s7784    Movie                                   Zubaan   \n",
      "7784   s7785    Movie                        Zulu Man in Japan   \n",
      "7785   s7786  TV Show                    Zumbo's Just Desserts   \n",
      "7786   s7787    Movie  ZZ TOP: THAT LITTLE OL' BAND FROM TEXAS   \n",
      "\n",
      "               director                                               cast  \\\n",
      "0                   NaN  João Miguel, Bianca Comparato, Michel Gomes, R...   \n",
      "1     Jorge Michel Grau  Demián Bichir, Héctor Bonilla, Oscar Serrano, ...   \n",
      "2          Gilbert Chan  Tedd Chan, Stella Chung, Henley Hii, Lawrence ...   \n",
      "3           Shane Acker  Elijah Wood, John C. Reilly, Jennifer Connelly...   \n",
      "4        Robert Luketic  Jim Sturgess, Kevin Spacey, Kate Bosworth, Aar...   \n",
      "...                 ...                                                ...   \n",
      "7782        Josef Fares  Imad Creidi, Antoinette Turk, Elias Gergi, Car...   \n",
      "7783        Mozez Singh  Vicky Kaushal, Sarah-Jane Dias, Raaghav Chanan...   \n",
      "7784                NaN                                            Nasty C   \n",
      "7785                NaN                         Adriano Zumbo, Rachel Khoo   \n",
      "7786           Sam Dunn                                                NaN   \n",
      "\n",
      "                                                country          date_added  \\\n",
      "0                                                Brazil     August 14, 2020   \n",
      "1                                                Mexico   December 23, 2016   \n",
      "2                                             Singapore   December 20, 2018   \n",
      "3                                         United States   November 16, 2017   \n",
      "4                                         United States     January 1, 2020   \n",
      "...                                                 ...                 ...   \n",
      "7782  Sweden, Czech Republic, United Kingdom, Denmar...    October 19, 2020   \n",
      "7783                                              India       March 2, 2019   \n",
      "7784                                                NaN  September 25, 2020   \n",
      "7785                                          Australia    October 31, 2020   \n",
      "7786              United Kingdom, Canada, United States       March 1, 2020   \n",
      "\n",
      "      release_year rating   duration  \\\n",
      "0             2020  TV-MA  4 Seasons   \n",
      "1             2016  TV-MA     93 min   \n",
      "2             2011      R     78 min   \n",
      "3             2009  PG-13     80 min   \n",
      "4             2008  PG-13    123 min   \n",
      "...            ...    ...        ...   \n",
      "7782          2005  TV-MA     99 min   \n",
      "7783          2015  TV-14    111 min   \n",
      "7784          2019  TV-MA     44 min   \n",
      "7785          2019  TV-PG   1 Season   \n",
      "7786          2019  TV-MA     90 min   \n",
      "\n",
      "                                              listed_in  \\\n",
      "0     International TV Shows, TV Dramas, TV Sci-Fi &...   \n",
      "1                          Dramas, International Movies   \n",
      "2                   Horror Movies, International Movies   \n",
      "3     Action & Adventure, Independent Movies, Sci-Fi...   \n",
      "4                                                Dramas   \n",
      "...                                                 ...   \n",
      "7782                       Dramas, International Movies   \n",
      "7783     Dramas, International Movies, Music & Musicals   \n",
      "7784  Documentaries, International Movies, Music & M...   \n",
      "7785                 International TV Shows, Reality TV   \n",
      "7786                    Documentaries, Music & Musicals   \n",
      "\n",
      "                                            description  \n",
      "0     In a future where the elite inhabit an island ...  \n",
      "1     After a devastating earthquake hits Mexico Cit...  \n",
      "2     When an army recruit is found dead, his fellow...  \n",
      "3     In a postapocalyptic world, rag-doll robots hi...  \n",
      "4     A brilliant group of students become card-coun...  \n",
      "...                                                 ...  \n",
      "7782  When Lebanon's Civil War deprives Zozo of his ...  \n",
      "7783  A scrappy but poor boy worms his way into a ty...  \n",
      "7784  In this documentary, South African rapper Nast...  \n",
      "7785  Dessert wizard Adriano Zumbo looks for the nex...  \n",
      "7786  This documentary delves into the mystique behi...  \n",
      "\n",
      "[7787 rows x 12 columns]\n"
     ]
    }
   ],
   "source": [
    "print(df)"
   ]
  },
  {
   "cell_type": "code",
   "execution_count": null,
   "id": "c490110d",
   "metadata": {},
   "outputs": [],
   "source": []
  }
 ],
 "metadata": {
  "kernelspec": {
   "display_name": "Python 3 (ipykernel)",
   "language": "python",
   "name": "python3"
  },
  "language_info": {
   "codemirror_mode": {
    "name": "ipython",
    "version": 3
   },
   "file_extension": ".py",
   "mimetype": "text/x-python",
   "name": "python",
   "nbconvert_exporter": "python",
   "pygments_lexer": "ipython3",
   "version": "3.9.7"
  }
 },
 "nbformat": 4,
 "nbformat_minor": 5
}
